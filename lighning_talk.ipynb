{
 "cells": [
  {
   "cell_type": "markdown",
   "id": "23cbab77",
   "metadata": {},
   "source": [
    "# Mr Python's Lightning Talk on TKinter"
   ]
  },
  {
   "cell_type": "code",
   "execution_count": 1,
   "id": "47f5cdba",
   "metadata": {},
   "outputs": [],
   "source": [
    "import tkinter as tk\n",
    "from tkinter import ttk"
   ]
  },
  {
   "cell_type": "markdown",
   "id": "543fff90",
   "metadata": {},
   "source": [
    "## Simple Combo Box\n",
    "Split it up into multiple code blocks\n",
    "* initializing\n",
    "* initializing combobox, explain how that works and what all of the important KWARGs ppl need to know\n",
    "* explain how we can capture the data from the combo box\n",
    "* main loop run its"
   ]
  },
  {
   "cell_type": "code",
   "execution_count": 2,
   "id": "7b4f8585",
   "metadata": {},
   "outputs": [],
   "source": [
    "root = tk.Tk()\n",
    "root.title(\"Combobox Example\")\n",
    "\n",
    "options = [\"Apple\", \"Banana\", \"Cherry\", \"Date\"]\n",
    "combo = ttk.Combobox(root, values=options)\n",
    "combo.current(0)  # set default selection (by index)\n",
    "combo.pack(pady=20)\n",
    "\n",
    "def on_select(event):\n",
    "    print(\"Combobox selected:\", combo.get())\n",
    "\n",
    "combo.bind(\"<<ComboboxSelected>>\", on_select)\n",
    "\n",
    "root.mainloop()"
   ]
  },
  {
   "cell_type": "markdown",
   "id": "87d3f1ee",
   "metadata": {},
   "source": [
    "## Simple Slider"
   ]
  },
  {
   "cell_type": "code",
   "execution_count": null,
   "id": "66cca280",
   "metadata": {},
   "outputs": [],
   "source": [
    "root = tk.Tk()  \n",
    "root.geometry(\"400x300\") \n",
    "v2 = tk.DoubleVar()\n",
    "\n",
    "def show2():\n",
    "    \n",
    "    sel = \"Vertical Scale Value = \" + str(v2.get()) \n",
    "    l2.config(text = sel, font =(\"Courier\", 14))\n",
    "\n",
    "s2 = tk.Scale( root, variable = v2,\n",
    "           from_ = 50, to = 1,\n",
    "           orient = tk.VERTICAL) \n",
    "\n",
    "l4 = tk.Label(root, text = \"Vertical Scaler\")\n",
    "\n",
    "b2 = tk.Button(root, text =\"Display Vertical\",\n",
    "            command = show2,\n",
    "            bg = \"purple\", \n",
    "            fg = \"white\")\n",
    "\n",
    "l2 = tk.Label(root)\n",
    "\n",
    "s2.pack(anchor = tk.CENTER) \n",
    "l4.pack()\n",
    "b2.pack()\n",
    "l2.pack()\n",
    "\n",
    "root.mainloop()"
   ]
  },
  {
   "cell_type": "markdown",
   "id": "4bcd73d3",
   "metadata": {},
   "source": [
    "## Simple Frame Menu"
   ]
  },
  {
   "cell_type": "code",
   "execution_count": null,
   "id": "8903b7d2",
   "metadata": {},
   "outputs": [],
   "source": [
    "# Function to create widgets with all options\n",
    "def create_widget(parent, widget_type, **options):\n",
    "    return widget_type(parent, **options)\n",
    "\n",
    "# Create the main window\n",
    "window = create_widget(None, tk.Tk)\n",
    "window.title(\"GUI Example\")\n",
    "\n",
    "# Create a Frame widget with all options\n",
    "frame = create_widget(window, tk.Frame, bg='lightblue', bd=3, cursor='hand2', height=100, \n",
    "                      highlightcolor='red', highlightthickness=2, highlightbackground='black', \n",
    "                      relief=tk.RAISED, width=200)\n",
    "frame.pack(padx=20, pady=20)\n",
    "\n",
    "# Create Label widget with all options\n",
    "label = create_widget(frame, tk.Label, text='GeeksForGeeks', font='50', bg='lightblue', bd=3, cursor='hand2',\n",
    "                      highlightcolor='red', highlightthickness=2, highlightbackground='black', \n",
    "                      relief=tk.RAISED)\n",
    "label.pack()\n",
    "\n",
    "# Create a frame for buttons\n",
    "button_frame = create_widget(window, tk.Frame, bg='lightblue', bd=3, cursor='hand2', height=50, \n",
    "                              highlightcolor='red', highlightthickness=2, highlightbackground='black', \n",
    "                              relief=tk.RAISED, width=200)\n",
    "button_frame.pack(pady=10)\n",
    "\n",
    "# Function to create buttons with all options\n",
    "def create_button(parent, text, fg):\n",
    "    return create_widget(parent, tk.Button, text=text, fg=fg, bg='lightblue', bd=3, cursor='hand2',\n",
    "                         highlightcolor='red', highlightthickness=2, highlightbackground='black', \n",
    "                         relief=tk.RAISED)\n",
    "\n",
    "# Create buttons\n",
    "buttons_info = [(\"Geeks1\", \"red\"), (\"Geeks2\", \"brown\"), (\"Geeks3\", \"blue\"), \n",
    "                (\"Geeks4\", \"green\"), (\"Geeks5\", \"green\"), (\"Geeks6\", \"green\")]\n",
    "\n",
    "for text, fg in buttons_info:\n",
    "    button = create_button(button_frame, text=text, fg=fg)\n",
    "    button.pack(side=tk.LEFT)\n",
    "\n",
    "# Run the Tkinter event loop\n",
    "window.mainloop()"
   ]
  }
 ],
 "metadata": {
  "kernelspec": {
   "display_name": "base",
   "language": "python",
   "name": "python3"
  },
  "language_info": {
   "codemirror_mode": {
    "name": "ipython",
    "version": 3
   },
   "file_extension": ".py",
   "mimetype": "text/x-python",
   "name": "python",
   "nbconvert_exporter": "python",
   "pygments_lexer": "ipython3",
   "version": "3.13.5"
  }
 },
 "nbformat": 4,
 "nbformat_minor": 5
}
